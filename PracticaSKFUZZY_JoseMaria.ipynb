{
 "cells": [
  {
   "cell_type": "markdown",
   "metadata": {},
   "source": [
    "# Práctica de Lógica Difusa\n",
    "\n",
    "`Asigantura: Sistemas Inteligentes II`\n",
    "\n",
    "`Autor: José María Amusquívar Poppe`"
   ]
  },
  {
   "cell_type": "markdown",
   "metadata": {},
   "source": [
    "## Introducción\n",
    "\n",
    "El objetivo de esta práctica es la de ampliar los conocimientos respecto a la teoría de *Lógica Difusa*. Ésta es capaz de proporcionar un marco matemático que permite, a un computador, modelar la incertidumbre de los procesos cognitivos humanos. Una breve explicación gráfica de su funcionamiento sería la de la figura 1.\n",
    "\n",
    "<figure style=\"text-align: center;\">\n",
    "    <img src=\"https://upload.wikimedia.org/wikipedia/commons/0/0c/SistemaDifuso.JPG\" alt=\"Representación gráfica\" title=\"Representación gráfica\" style=\"margin-top: 20px;\"/>\n",
    "    <figcaption style=\"margin-bottom: 20px\">Figura 1: Representación gráfica de un sistema de control</figcaption>\n",
    "</figure>\n",
    "\n",
    "En la figura anterior se puede observar que existe una entrada, la cual se conecta con el motor de inferencias, donde se encuentran las reglas definidas del sistema y, finalmente, se obtiene una salida cuyo resultado debe coincidir con el esperado.\n"
   ]
  },
  {
   "cell_type": "markdown",
   "metadata": {},
   "source": [
    "## Problema\n",
    "\n",
    "El problema elegido para esta práctica es la de un servicio automatizado de bajas médicas, la cual, a partir de dos entradas proporcionadas, ésta generará los días de baja médica que debe permanecer el paciente. Las dos entradas del sistema se corresponde con el nivel de dolor del paciente y los días que lleva sintiendo dicho dolor.\n",
    "\n",
    "#### Servicio automatizado de bajas\n",
    "\n",
    "**Antecedentes (Entradas)**\n",
    "\n",
    "* **Dolor del paciente:** Universo: En una escala de 1 al 10, ¿cuánto dolor siente?. Conjunto difuso: bajo, medio, alto.\n",
    "\n",
    "* **Días con dolor:** Universo: En una escala de 0 a 15 días, ¿cuántos días lleva sintiendo el dolor? Conjunto difuso: pocos, varios, muchos.\n",
    "\n",
    "**Consecuentes (Salidas)**\n",
    "* **Días de baja:** Universo: En una escala de 0 a 31 días, ¿cuántos días de baja médica debe tener el paciente? Fuzzy set: pocos, varios, muchos.\n",
    "\n",
    "**Reglas**\n",
    "* Si el paciente tiene un dolor alto o lleva sintiéndolo muchos días, entonces los días de baja otorgados serán muchos.\n",
    "* Si el paciente tiene un dolor medio y lleva sintiéndolo varios días, entonces los días de baja otorgados serán varios.\n",
    "* Si el paciente tiene un dolor bajo o lleva sintinéndolo pocos días, entonces los días de baja otorgados serán pocos.\n",
    "* Si el paciente tiene un dolor alto y lleva sintiéndolor pocos días, entonces los días de baja otorgados serán varios.\n",
    "* Si el paciente tiene un dolor bajo y lleva sintiéndolor muchos días, entonces los días de baja otorgados serán varios.\n",
    "\n",
    "**Uso**\n",
    "\n",
    "Por tanto, si un paciente se presenta en el médico con un dolor alto, el cual lleva sintiéndolo muchos días, recibirá el máximo de días de baja, es decir, 31 días (1 mes)."
   ]
  },
  {
   "cell_type": "markdown",
   "metadata": {},
   "source": [
    "## Ejecución del programa\n",
    "\n",
    "Para realizar esta práctica se ha empleado las librerías *scikit-fuzzy* para montar la estructura del sistema de inferencias, *numpy* para el cálculo numérico y el uso de vectores, y *matplotlib* para presentar las gráficas resultantes del programa."
   ]
  },
  {
   "cell_type": "markdown",
   "metadata": {},
   "source": [
    "**INSTALACIÓN/IMPORTACIÓN DE LIBRERÍAS**"
   ]
  },
  {
   "cell_type": "code",
   "execution_count": 1,
   "metadata": {},
   "outputs": [
    {
     "name": "stdout",
     "output_type": "stream",
     "text": [
      "Requirement already satisfied: scikit-fuzzy in c:\\programdata\\anaconda3\\lib\\site-packages (0.4.2)\n",
      "Requirement already satisfied: networkx>=1.9.0 in c:\\programdata\\anaconda3\\lib\\site-packages (from scikit-fuzzy) (2.4)\n",
      "Requirement already satisfied: numpy>=1.6.0 in c:\\programdata\\anaconda3\\lib\\site-packages (from scikit-fuzzy) (1.18.5)\n",
      "Requirement already satisfied: scipy>=0.9.0 in c:\\programdata\\anaconda3\\lib\\site-packages (from scikit-fuzzy) (1.5.0)\n",
      "Requirement already satisfied: decorator>=4.3.0 in c:\\programdata\\anaconda3\\lib\\site-packages (from networkx>=1.9.0->scikit-fuzzy) (4.4.2)\n",
      "Requirement already satisfied: numpy in c:\\programdata\\anaconda3\\lib\\site-packages (1.18.5)\n",
      "Requirement already satisfied: matplotlib in c:\\programdata\\anaconda3\\lib\\site-packages (3.2.2)\n",
      "Requirement already satisfied: kiwisolver>=1.0.1 in c:\\programdata\\anaconda3\\lib\\site-packages (from matplotlib) (1.2.0)\n",
      "Requirement already satisfied: numpy>=1.11 in c:\\programdata\\anaconda3\\lib\\site-packages (from matplotlib) (1.18.5)\n",
      "Requirement already satisfied: pyparsing!=2.0.4,!=2.1.2,!=2.1.6,>=2.0.1 in c:\\programdata\\anaconda3\\lib\\site-packages (from matplotlib) (2.4.7)\n",
      "Requirement already satisfied: python-dateutil>=2.1 in c:\\programdata\\anaconda3\\lib\\site-packages (from matplotlib) (2.8.1)\n",
      "Requirement already satisfied: cycler>=0.10 in c:\\programdata\\anaconda3\\lib\\site-packages (from matplotlib) (0.10.0)\n",
      "Requirement already satisfied: six>=1.5 in c:\\programdata\\anaconda3\\lib\\site-packages (from python-dateutil>=2.1->matplotlib) (1.15.0)\n"
     ]
    }
   ],
   "source": [
    "!pip install scikit-fuzzy\n",
    "!pip install numpy\n",
    "!pip install matplotlib\n",
    "\n",
    "import skfuzzy as fuzz\n",
    "from skfuzzy import control as ctrl\n",
    "import numpy as np\n",
    "import matplotlib.pyplot as plt \n",
    "%matplotlib inline"
   ]
  },
  {
   "cell_type": "markdown",
   "metadata": {},
   "source": [
    "**DESARROLLO DEL CÓDIGO**\n",
    "\n",
    "Lo primero que se realiza en el programa es declarar las entradas y la salida, además de otorgarles un nombre."
   ]
  },
  {
   "cell_type": "code",
   "execution_count": 2,
   "metadata": {},
   "outputs": [],
   "source": [
    "dolores = ctrl.Antecedent(np.arange(1, 11, 1), 'dolores')\n",
    "dias = ctrl.Antecedent(np.arange(0, 16, 1), 'dias')\n",
    "baja = ctrl.Consequent(np.arange(0, 32, 1), 'baja')"
   ]
  },
  {
   "cell_type": "markdown",
   "metadata": {},
   "source": [
    "Y posteriormente se genera el universo para cada una de ellas. Aplicando la función *automf()* se automatiza este proceso, mientras que si se desea realizar a mano, se puede emplear la función *trimf()*."
   ]
  },
  {
   "cell_type": "code",
   "execution_count": 3,
   "metadata": {},
   "outputs": [],
   "source": [
    "dolores.automf(3)\n",
    "dias.automf(3)\n",
    "\n",
    "baja['pocos'] = fuzz.trimf(baja.universe, [0, 0, 15])\n",
    "baja['varios'] = fuzz.trimf(baja.universe, [0, 15, 31])\n",
    "baja['muchos'] = fuzz.trimf(baja.universe, [15, 31, 31])"
   ]
  },
  {
   "cell_type": "markdown",
   "metadata": {},
   "source": [
    "Lo siguiente a realizar es desarrollar las reglas declaradas anteriormente, empleando operadores lógicos *AND* y *OR*, y asignándole un comportamiento de salida."
   ]
  },
  {
   "cell_type": "code",
   "execution_count": 4,
   "metadata": {},
   "outputs": [],
   "source": [
    "rule1 = ctrl.Rule(dolores['good'] | dias['good'], baja['muchos'])\n",
    "rule2 = ctrl.Rule(dolores['average'] & dias['average'], baja['varios'])\n",
    "rule3 = ctrl.Rule(dolores['poor'] | dias['poor'], baja['pocos'])\n",
    "rule4 = ctrl.Rule(dolores['good'] & dias['average'], baja['varios'])\n",
    "rule5 = ctrl.Rule(dolores['average'] & dias['good'], baja['varios'])\n",
    "rule6 = ctrl.Rule(dolores['poor'] & dias['good'], baja['pocos'])\n",
    "rule7 = ctrl.Rule(dolores['good'] & dias['poor'], baja['varios'])"
   ]
  },
  {
   "cell_type": "markdown",
   "metadata": {},
   "source": [
    "Y, finalmente, se añaden las reglas generadas al sistema de inferencias, consiguiendo de este modo representar las reglas en un lenguaje comprensible para el computador."
   ]
  },
  {
   "cell_type": "code",
   "execution_count": 5,
   "metadata": {},
   "outputs": [],
   "source": [
    "baja_ctrl = ctrl.ControlSystem([rule1, rule2, rule3, rule4, rule5, rule6, rule7])\n",
    "dias_baja = ctrl.ControlSystemSimulation(baja_ctrl)"
   ]
  },
  {
   "cell_type": "markdown",
   "metadata": {},
   "source": [
    "Una vez construido el sistema, se puede proceder a probar su funcionamiento, además de visualizar las gráficas resultantes.\n",
    "\n",
    "**DATOS DE ENTRADA**"
   ]
  },
  {
   "cell_type": "code",
   "execution_count": 6,
   "metadata": {},
   "outputs": [],
   "source": [
    "dias_baja.input['dolores'] = 5       # Rango de 1 a 10\n",
    "dias_baja.input['dias'] = 7          # Rango de 0 a 31\n",
    "\n",
    "dias_baja.compute()                  # Se procesan las entradas"
   ]
  },
  {
   "cell_type": "markdown",
   "metadata": {},
   "source": [
    "Como resultado final se obtiene el número de días de baja otorgados al paciente (salida), y la correspodiente gráfica resultado."
   ]
  },
  {
   "cell_type": "code",
   "execution_count": 7,
   "metadata": {},
   "outputs": [
    {
     "name": "stdout",
     "output_type": "stream",
     "text": [
      "Número de días de baja:  15.241587954431468\n"
     ]
    },
    {
     "name": "stderr",
     "output_type": "stream",
     "text": [
      "C:\\ProgramData\\Anaconda3\\lib\\site-packages\\skfuzzy\\control\\fuzzyvariable.py:122: UserWarning: Matplotlib is currently using module://ipykernel.pylab.backend_inline, which is a non-GUI backend, so cannot show the figure.\n",
      "  fig.show()\n"
     ]
    },
    {
     "data": {
      "image/png": "[encoded data removed]",
      "text/plain": [
       "<Figure size 432x288 with 1 Axes>"
      ]
     },
     "metadata": {
      "needs_background": "light"
     },
     "output_type": "display_data"
    }
   ],
   "source": [
    "print(\"Número de días de baja: \", dias_baja.output['baja'])     \n",
    "baja.view(sim=dias_baja)"
   ]
  },
  {
   "cell_type": "markdown",
   "metadata": {},
   "source": [
    "Tal como se puede apreciar en la gráfica anterior, el número de días de baja otorgado al paciente es de 15 días. Esto es algo lógico pues los datos de entrada se corresponden con los puntos medios de la escala *dolores* y del *número de días con dolor*."
   ]
  }
 ],
 "metadata": {
  "kernelspec": {
   "display_name": "Python 3",
   "language": "python",
   "name": "python3"
  },
  "language_info": {
   "codemirror_mode": {
    "name": "ipython",
    "version": 3
   },
   "file_extension": ".py",
   "mimetype": "text/x-python",
   "name": "python",
   "nbconvert_exporter": "python",
   "pygments_lexer": "ipython3",
   "version": "3.8.3"
  }
 },
 "nbformat": 4,
 "nbformat_minor": 4
}
